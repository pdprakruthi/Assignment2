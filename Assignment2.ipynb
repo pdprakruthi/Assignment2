{
 "cells": [
  {
   "cell_type": "markdown",
   "id": "8619d2d8-8454-42c1-ac1e-87d09a33b849",
   "metadata": {},
   "source": [
    "<!DOCTYPE html>\n",
    "<html>\n",
    "<body>\n",
    " <h1>Image Pre-processing using open CV</h1>\n",
    "</body>\n",
    "    </html>"
   ]
  },
  {
   "cell_type": "code",
   "execution_count": null,
   "id": "1f9b9ec1-ea6a-4c8e-8b63-479977981ac7",
   "metadata": {},
   "outputs": [],
   "source": [
    "import cv2\n",
    "import matplotlib.pyplot as plt\n",
    "\n",
    "# Function to display image in Jupyter notebook\n",
    "def display_image(image, cmap=None):\n",
    "    # Convert BGR to RGB (OpenCV uses BGR by default, matplotlib uses RGB)\n",
    "    if len(image.shape) == 3:\n",
    "        image = cv2.cvtColor(image, cv2.COLOR_BGR2RGB)\n",
    "    plt.imshow(image, cmap=cmap)\n",
    "    plt.axis('off')  # Hide axes\n",
    "    plt.show()\n",
    "\n",
    "# Load the image\n",
    "image = cv2.imread(r'C:\\Users\\Prakruthi P D\\OneDrive\\Desktop\\download (2).jpeg')\n",
    "\n",
    "# Display the original image\n",
    "display_image(image)\n",
    "\n",
    "# Convert the image to grayscale\n",
    "gray_image = cv2.cvtColor(image, cv2.COLOR_BGR2GRAY)\n",
    "\n",
    "# Display the grayscale image\n",
    "display_image(gray_image, cmap='gray')\n",
    "\n",
    "# Apply a Gaussian blur to the grayscale image\n",
    "blurred_image = cv2.GaussianBlur(gray_image, (5, 5), 0)\n",
    "\n",
    "# Display the blurred image\n",
    "display_image(blurred_image, cmap='gray')\n",
    "\n",
    "# Save the processed (blurred) image to disk\n",
    "cv2.imwrite('blurred_image.jpg', blurred_image)\n"
   ]
  },
  {
   "cell_type": "code",
   "execution_count": null,
   "id": "b3704836-c10f-43c5-a3a8-bedc65c79f1c",
   "metadata": {},
   "outputs": [],
   "source": []
  }
 ],
 "metadata": {
  "kernelspec": {
   "display_name": "Python 3 (ipykernel)",
   "language": "python",
   "name": "python3"
  },
  "language_info": {
   "codemirror_mode": {
    "name": "ipython",
    "version": 3
   },
   "file_extension": ".py",
   "mimetype": "text/x-python",
   "name": "python",
   "nbconvert_exporter": "python",
   "pygments_lexer": "ipython3",
   "version": "3.12.4"
  }
 },
 "nbformat": 4,
 "nbformat_minor": 5
}
